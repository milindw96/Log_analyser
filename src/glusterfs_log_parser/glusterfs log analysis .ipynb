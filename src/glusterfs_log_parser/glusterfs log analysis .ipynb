{
 "cells": [
  {
   "cell_type": "code",
   "execution_count": 8,
   "metadata": {},
   "outputs": [],
   "source": [
    "# Types of message IECWTD\n",
    "from datetime import datetime\n",
    "import pandas as pd\n",
    "import re\n",
    "import os\n",
    "log_file=\"/path/of/file\"\n",
    "log_file=\"/home/mwaykole/temp/NLP/sosreport-rhsqa-grafton7-nic2-2020-10-28-xfmhycf/var/log/glusterfs/glusterd.log\""
   ]
  },
  {
   "cell_type": "code",
   "execution_count": 9,
   "metadata": {},
   "outputs": [],
   "source": [
    "\n",
    "def all_file(log_path):\n",
    "    \"\"\"\n",
    "    returns the list of all file in the directory\n",
    "    args: \n",
    "        log_path: path of the dir or log file \n",
    "    \"\"\"\n",
    "    if not os.path.isdir(log_path):\n",
    "        print(\"Not dir\")\n",
    "        return log_path\n",
    "    file_list = []\n",
    "    if os.path.isdir(log_path):\n",
    "        for path in os.listdir(log_path):\n",
    "            full_path = os.path.join(log_path, path)\n",
    "            if os.path.isfile(full_path):\n",
    "                file_list.append(full_path)\n",
    "                \n",
    "    return file_list"
   ]
  },
  {
   "cell_type": "code",
   "execution_count": null,
   "metadata": {},
   "outputs": [],
   "source": []
  },
  {
   "cell_type": "code",
   "execution_count": 22,
   "metadata": {},
   "outputs": [],
   "source": [
    "\n",
    "def glusterfs_log_parser(log_file_path, message_info,crash_time=None, no_of_log=None):\n",
    "    \"\"\"\n",
    "    This method will parse glusterfs log  and display the count \n",
    "    args:\n",
    "        log_file_path: Path of glusterfs file\n",
    "        message_info: log level (IECWTD)\n",
    "        \n",
    "    \n",
    "    \"\"\"\n",
    "    pattern = ('\\[([^\\]]+)\\]\\s([{}])\\s(\\[MSGID:\\s([^\\]]+)\\]\\s)?\\[([^\\]]+)\\]\\s([^:]+):\\s(.+)'.format(message_info))\n",
    "    log_pattern = re.compile(pattern)\n",
    "    lst= []\n",
    "    with open(log_file_path, 'r') as file:\n",
    "        for line in file.readlines():\n",
    "            matches =  log_pattern.finditer(line)\n",
    "            for i in matches:\n",
    "                lst.append(i.groups())\n",
    "    df = pd.DataFrame(lst)\n",
    "    df1 = df[df[6].duplicated()][6]\n",
    "    df1 = pd.DataFrame(df1.value_counts())\n",
    "    return (df,df1) \n",
    "    "
   ]
  },
  {
   "cell_type": "code",
   "execution_count": 19,
   "metadata": {},
   "outputs": [],
   "source": [
    "fulldf,dupliacteeddf =glusterfs_log_parser(log_file,\"C\")"
   ]
  },
  {
   "cell_type": "code",
   "execution_count": 20,
   "metadata": {},
   "outputs": [
    {
     "data": {
      "text/plain": [
       "<matplotlib.axes._subplots.AxesSubplot at 0x7f70dde07b50>"
      ]
     },
     "execution_count": 20,
     "metadata": {},
     "output_type": "execute_result"
    },
    {
     "data": {
      "image/png": "[encoded data removed]",
      "text/plain": [
       "<Figure size 432x288 with 1 Axes>"
      ]
     },
     "metadata": {
      "needs_background": "light"
     },
     "output_type": "display_data"
    }
   ],
   "source": [
    "dupliacteeddf.plot.bar()"
   ]
  },
  {
   "cell_type": "code",
   "execution_count": 21,
   "metadata": {},
   "outputs": [
    {
     "data": {
      "text/html": [
       "<div>\n",
       "<style scoped>\n",
       "    .dataframe tbody tr th:only-of-type {\n",
       "        vertical-align: middle;\n",
       "    }\n",
       "\n",
       "    .dataframe tbody tr th {\n",
       "        vertical-align: top;\n",
       "    }\n",
       "\n",
       "    .dataframe thead th {\n",
       "        text-align: right;\n",
       "    }\n",
       "</style>\n",
       "<table border=\"1\" class=\"dataframe\">\n",
       "  <thead>\n",
       "    <tr style=\"text-align: right;\">\n",
       "      <th></th>\n",
       "      <th>6</th>\n",
       "    </tr>\n",
       "  </thead>\n",
       "  <tbody>\n",
       "    <tr>\n",
       "      <th>Server quorum regained for volume vmstore. Starting local bricks. </th>\n",
       "      <td>6</td>\n",
       "    </tr>\n",
       "    <tr>\n",
       "      <th>Server quorum regained for volume data. Starting local bricks.</th>\n",
       "      <td>6</td>\n",
       "    </tr>\n",
       "    <tr>\n",
       "      <th>Server quorum regained for volume engine. Starting local bricks.</th>\n",
       "      <td>6</td>\n",
       "    </tr>\n",
       "  </tbody>\n",
       "</table>\n",
       "</div>"
      ],
      "text/plain": [
       "                                                    6\n",
       "Server quorum regained for volume vmstore. Star...  6\n",
       "Server quorum regained for volume data. Startin...  6\n",
       "Server quorum regained for volume engine. Start...  6"
      ]
     },
     "execution_count": 21,
     "metadata": {},
     "output_type": "execute_result"
    }
   ],
   "source": [
    "dupliacteeddf"
   ]
  },
  {
   "cell_type": "code",
   "execution_count": null,
   "metadata": {},
   "outputs": [],
   "source": []
  }
 ],
 "metadata": {
  "kernelspec": {
   "display_name": "Python 3",
   "language": "python",
   "name": "python3"
  },
  "language_info": {
   "codemirror_mode": {
    "name": "ipython",
    "version": 3
   },
   "file_extension": ".py",
   "mimetype": "text/x-python",
   "name": "python",
   "nbconvert_exporter": "python",
   "pygments_lexer": "ipython3",
   "version": "3.8.7"
  }
 },
 "nbformat": 4,
 "nbformat_minor": 4
}
